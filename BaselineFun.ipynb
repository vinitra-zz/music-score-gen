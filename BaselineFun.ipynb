{
 "cells": [
  {
   "cell_type": "code",
   "execution_count": 1,
   "metadata": {
    "collapsed": true
   },
   "outputs": [],
   "source": [
    "import pandas as pd\n",
    "from utils import *"
   ]
  },
  {
   "cell_type": "code",
   "execution_count": 2,
   "metadata": {
    "collapsed": true
   },
   "outputs": [],
   "source": [
    "# data preprocessing\n",
    "\n",
    "# read in relevant dataframes\n",
    "source = pd.read_csv('data/input.csv', header=0)\n",
    "target = pd.read_csv('data/GEMS_data.csv')\n",
    "\n",
    "# clean input video dataset\n",
    "video_params = ['rid', 'abpl', 'abar', 'abdo']\n",
    "new_params = ['rid', 'pleasure', 'arousal', 'dominance']\n",
    "\n",
    "source = source[video_params]\n",
    "source.columns = new_params\n",
    "source[new_params[1:]] = source[new_params[1:]] > 0\n",
    "\n",
    "# create dictionary of songs to sample\n",
    "emotions = target.columns[2:11]\n",
    "music_dict = {}\n",
    "for emotion in emotions:\n",
    "    music_dict[emotion] = target[target[emotion] == 1]"
   ]
  },
  {
   "cell_type": "code",
   "execution_count": 3,
   "metadata": {
    "collapsed": true
   },
   "outputs": [],
   "source": [
    "def sample_songs(rid):\n",
    "    \"\"\"\n",
    "    Randomly samples a pair of songs from\n",
    "    the GEMs dataset that correspond to the\n",
    "    sentiment of the input song.\n",
    "    \n",
    "    Args:\n",
    "        rid: id of a video from the EMMA \n",
    "        dataset\n",
    "        \n",
    "    Returns: DataFrame with 2 rows from GEMs DataFrame\n",
    "    \"\"\"\n",
    "    russell_emotions = ['pleasure', 'arousal', 'dominance']\n",
    "    russell_emotion_vector = source[source['rid'] == rid][russell_emotions].values.astype('int')[0]\n",
    "    pleasure = russell_emotion_vector[0]\n",
    "    arousal = russell_emotion_vector[1]\n",
    "    dominance = russell_emotion_vector[2]\n",
    "    \n",
    "    if pleasure:\n",
    "        if arousal:\n",
    "            if dominance:\n",
    "                return music_dict[' joy'].sample(2)\n",
    "            else:\n",
    "                return music_dict[' amazement'].sample(2)\n",
    "        else:\n",
    "            if dominance:\n",
    "                return music_dict[' power'].sample(2)\n",
    "            else:\n",
    "                music_dict[' tenderness'].sample(2)\n",
    "    else:\n",
    "        if arousal:\n",
    "            if dominance:\n",
    "                return music_dict[' nostalgia'].sample(2)\n",
    "            else:\n",
    "                return music_dict[' tension'].sample(2)\n",
    "        else:\n",
    "            if dominance:\n",
    "                return music_dict[' calmness'].sample(2)\n",
    "            else:\n",
    "                music_dict[' sadness'].sample(2) "
   ]
  },
  {
   "cell_type": "markdown",
   "metadata": {
    "collapsed": true
   },
   "source": []
  },
  {
   "cell_type": "code",
   "execution_count": 11,
   "metadata": {},
   "outputs": [
    {
     "data": {
      "text/html": [
       "<div>\n",
       "<style scoped>\n",
       "    .dataframe tbody tr th:only-of-type {\n",
       "        vertical-align: middle;\n",
       "    }\n",
       "\n",
       "    .dataframe tbody tr th {\n",
       "        vertical-align: top;\n",
       "    }\n",
       "\n",
       "    .dataframe thead th {\n",
       "        text-align: right;\n",
       "    }\n",
       "</style>\n",
       "<table border=\"1\" class=\"dataframe\">\n",
       "  <thead>\n",
       "    <tr style=\"text-align: right;\">\n",
       "      <th></th>\n",
       "      <th>track id</th>\n",
       "      <th>genre</th>\n",
       "      <th>amazement</th>\n",
       "      <th>solemnity</th>\n",
       "      <th>tenderness</th>\n",
       "      <th>nostalgia</th>\n",
       "      <th>calmness</th>\n",
       "      <th>power</th>\n",
       "      <th>joyful_activation</th>\n",
       "      <th>tension</th>\n",
       "      <th>sadness</th>\n",
       "      <th>mood</th>\n",
       "      <th>liked</th>\n",
       "      <th>disliked</th>\n",
       "      <th>age</th>\n",
       "      <th>gender</th>\n",
       "      <th>mother tongue</th>\n",
       "    </tr>\n",
       "  </thead>\n",
       "  <tbody>\n",
       "    <tr>\n",
       "      <th>4996</th>\n",
       "      <td>206</td>\n",
       "      <td>electronic</td>\n",
       "      <td>1</td>\n",
       "      <td>0</td>\n",
       "      <td>0</td>\n",
       "      <td>0</td>\n",
       "      <td>1</td>\n",
       "      <td>0</td>\n",
       "      <td>1</td>\n",
       "      <td>0</td>\n",
       "      <td>0</td>\n",
       "      <td>3</td>\n",
       "      <td>1</td>\n",
       "      <td>0</td>\n",
       "      <td>19</td>\n",
       "      <td>1</td>\n",
       "      <td>English</td>\n",
       "    </tr>\n",
       "    <tr>\n",
       "      <th>4856</th>\n",
       "      <td>203</td>\n",
       "      <td>electronic</td>\n",
       "      <td>1</td>\n",
       "      <td>0</td>\n",
       "      <td>0</td>\n",
       "      <td>0</td>\n",
       "      <td>0</td>\n",
       "      <td>0</td>\n",
       "      <td>1</td>\n",
       "      <td>1</td>\n",
       "      <td>0</td>\n",
       "      <td>3</td>\n",
       "      <td>1</td>\n",
       "      <td>0</td>\n",
       "      <td>24</td>\n",
       "      <td>0</td>\n",
       "      <td>English</td>\n",
       "    </tr>\n",
       "  </tbody>\n",
       "</table>\n",
       "</div>"
      ],
      "text/plain": [
       "      track id       genre   amazement   solemnity   tenderness   nostalgia  \\\n",
       "4996       206  electronic           1           0            0           0   \n",
       "4856       203  electronic           1           0            0           0   \n",
       "\n",
       "       calmness   power   joyful_activation   tension   sadness   mood  \\\n",
       "4996          1       0                   1         0         0      3   \n",
       "4856          0       0                   1         1         0      3   \n",
       "\n",
       "       liked   disliked   age   gender  mother tongue  \n",
       "4996       1          0    19        1        English  \n",
       "4856       1          0    24        0        English  "
      ]
     },
     "execution_count": 11,
     "metadata": {},
     "output_type": "execute_result"
    }
   ],
   "source": [
    "music_dict[' amazement'].sample(2)"
   ]
  },
  {
   "cell_type": "code",
   "execution_count": null,
   "metadata": {
    "collapsed": true
   },
   "outputs": [],
   "source": []
  },
  {
   "cell_type": "code",
   "execution_count": null,
   "metadata": {
    "collapsed": true
   },
   "outputs": [],
   "source": []
  }
 ],
 "metadata": {
  "kernelspec": {
   "display_name": "py27",
   "language": "python",
   "name": "py27"
  },
  "language_info": {
   "codemirror_mode": {
    "name": "ipython",
    "version": 2
   },
   "file_extension": ".py",
   "mimetype": "text/x-python",
   "name": "python",
   "nbconvert_exporter": "python",
   "pygments_lexer": "ipython2",
   "version": "2.7.14"
  }
 },
 "nbformat": 4,
 "nbformat_minor": 2
}
