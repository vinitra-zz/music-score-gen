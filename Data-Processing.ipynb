{
 "cells": [
  {
   "cell_type": "code",
   "execution_count": 25,
   "metadata": {},
   "outputs": [],
   "source": [
    "import pandas as pd\n",
    "import os"
   ]
  },
  {
   "cell_type": "code",
   "execution_count": 26,
   "metadata": {},
   "outputs": [],
   "source": [
    "def process_target(fname):\n",
    "    \"\"\"\n",
    "    Reads in the GEMs emotion-music dataset\n",
    "    and returns a dicitonary mapping emotion\n",
    "    to tracks. For each track, annotations\n",
    "    summed across emotions and the emotion with\n",
    "    the most annotations is selected as the label.\n",
    "    \n",
    "    Args:\n",
    "        filename: name of GEMs data file\n",
    "        \n",
    "    Returns: (data frame, dictionary mapping\n",
    "        emotions to dataframes)\n",
    "    \"\"\"\n",
    "    target = pd.read_csv(fname)\n",
    "    \n",
    "    # find dominant emotion\n",
    "    target = target.groupby(['track id', ' genre']).sum()\n",
    "    target['dominant emotion'] = target[emotions].idxmax(axis=1)\n",
    "    \n",
    "    # convert to dictionary\n",
    "    music_dict = {}\n",
    "    for emotion in emotions:\n",
    "        music_dict[emotion] = target[target['dominant emotion'] == emotion]\n",
    "    \n",
    "    return (target, music_dict)\n",
    "\n",
    "target, music_dict = process_target('data/GEMS_data.csv')"
   ]
  },
  {
   "cell_type": "code",
   "execution_count": 41,
   "metadata": {},
   "outputs": [],
   "source": [
    "# convert data from default format into format that is better for training\n",
    "\n",
    "data_dir = './data/emotifymusic/'\n",
    "convert_int = lambda x: ((x - 1) % 100) + 1  \n",
    "\n",
    "for key, df in music_dict.items():\n",
    "    directory = key.strip()\n",
    "    if not os.path.exists(data_dir + directory):\n",
    "        os.makedirs(data_dir + directory)    \n",
    "    for track_num, genre in df.index:\n",
    "        old_path = data_dir + genre + '/' + str(convert_int(track_num)) + '.mp3'\n",
    "        new_path = data_dir + directory + '/' + str(track_num) + '.mp3'\n",
    "        if not os.path.isfile(new_path):\n",
    "            os.rename(old_path, new_path)"
   ]
  },
  {
   "cell_type": "code",
   "execution_count": 32,
   "metadata": {},
   "outputs": [
    {
     "name": "stdout",
     "output_type": "stream",
     "text": [
      "/data2/kaylee/kaylee/music-score-gen\r\n"
     ]
    }
   ],
   "source": [
    "!pwd\n",
    "# music_dict[' tenderness'].index"
   ]
  },
  {
   "cell_type": "code",
   "execution_count": null,
   "metadata": {
    "collapsed": true
   },
   "outputs": [],
   "source": []
  }
 ],
 "metadata": {
  "kernelspec": {
   "display_name": "Python 3",
   "language": "python",
   "name": "python3"
  },
  "language_info": {
   "codemirror_mode": {
    "name": "ipython",
    "version": 3
   },
   "file_extension": ".py",
   "mimetype": "text/x-python",
   "name": "python",
   "nbconvert_exporter": "python",
   "pygments_lexer": "ipython3",
   "version": "3.6.5"
  }
 },
 "nbformat": 4,
 "nbformat_minor": 2
}
